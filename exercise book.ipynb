{
 "cells": [
  {
   "cell_type": "code",
   "execution_count": null,
   "metadata": {},
   "outputs": [],
   "source": [
    "x='dark'\n",
    "if x=='light':\n",
    "    print('will go party')\n",
    "else:\n",
    "    print('will not go to party')"
   ]
  },
  {
   "cell_type": "code",
   "execution_count": null,
   "metadata": {},
   "outputs": [],
   "source": [
    "y='Bank'\n",
    "if y=='auto shop':\n",
    "   print('wecome to the autoshop!')\n",
    "elif y=='Bank':\n",
    "    print('welcome to the Bank!')\n",
    "else:\n",
    "        print('where are you?')"
   ]
  },
  {
   "cell_type": "code",
   "execution_count": null,
   "metadata": {},
   "outputs": [],
   "source": [
    "person='george'\n",
    "if person=='sammy':\n",
    "    print('welcome Sammy')\n",
    "elif person=='george':\n",
    "    print('welcome George')\n",
    "elif person=='joyce':\n",
    "    print('welcome Joyce')\n",
    "else:\n",
    "    print('Welcome,What is your name?')\n",
    "\n"
   ]
  },
  {
   "cell_type": "code",
   "execution_count": null,
   "metadata": {},
   "outputs": [],
   "source": [
    "variable_name=int(input('Enter your number'))\n",
    "if variable_name%2==0:\n",
    "    print('even number')\n",
    "else:\n",
    "    print('odd number')\n",
    "    "
   ]
  },
  {
   "cell_type": "code",
   "execution_count": null,
   "metadata": {},
   "outputs": [],
   "source": [
    "a=int(input('enter your number'))\n",
    "b=int(input('enter your number'))\n",
    "if a>b:\n",
    "    print('a is greater than b')\n",
    "else:\n",
    "    print('b is greater than a')"
   ]
  },
  {
   "cell_type": "markdown",
   "metadata": {},
   "source": []
  },
  {
   "cell_type": "raw",
   "metadata": {},
   "source": []
  },
  {
   "cell_type": "code",
   "execution_count": null,
   "metadata": {},
   "outputs": [],
   "source": [
    "a=int(input('enter your number'))\n",
    "b=int(input('enter your number'))\n",
    "c=int(input('enter your number'))\n",
    "if a>b and a>c:\n",
    "\n",
    "    print(a,'is greater than b and c')\n",
    "elif b>c and b>a:\n",
    "\n",
    "    print(b,'is greater than a and c')\n",
    "else:\n",
    "\n",
    "    print(c,'is greater than b and a')\n",
    "    \n",
    "    \n"
   ]
  },
  {
   "cell_type": "code",
   "execution_count": null,
   "metadata": {},
   "outputs": [],
   "source": [
    "a=int(input('enter your number'))\n",
    "b=int(input('enter your number'))\n",
    "c=int(input('enter your number'))\n",
    "if (a>b and):\n",
    "    print(a,'is the middle number')\n",
    "elif c>a>b or b>c>a or a>b>c:\n",
    "    print(b,is t)\n",
    "    "
   ]
  },
  {
   "cell_type": "markdown",
   "metadata": {},
   "source": []
  },
  {
   "cell_type": "markdown",
   "metadata": {},
   "source": []
  },
  {
   "cell_type": "code",
   "execution_count": null,
   "metadata": {},
   "outputs": [],
   "source": [
    "st =  'print only the words that starts with  s  in this sentence'\n",
    "\n",
    "for word in st.split():\n",
    "    \n",
    "    if word[-1]=='t':\n",
    "        print(word) \n",
    "        #this is called split"
   ]
  },
  {
   "cell_type": "code",
   "execution_count": null,
   "metadata": {},
   "outputs": [],
   "source": [
    "line = 'x'\n",
    "max_length = 50\n",
    " \n",
    "    while len (top_line)= max_length:\n",
    "        \n",
    "        len (left_tside)= max_length:\n",
    "            \n",
    "        len(right_side)= max_length:\n",
    "            \n",
    "        len(bottom_side)= max_length:\n",
    "            print (line)\n",
    "            line += \"*\"\n",
    "        \n",
    "            \n",
    "            \n",
    "        "
   ]
  },
  {
   "cell_type": "code",
   "execution_count": null,
   "metadata": {},
   "outputs": [],
   "source": [
    "for i in (range(1,51)):\n",
    "    if i%3==0 and i%5==0:\n",
    "          print(\"FIZZ\")\n",
    "    \n",
    "    elif i%3==0:\n",
    "          print('this number is divisible by 3', i)\n",
    "    elif i%5==0:\n",
    "          print('this number is divisible by 5',i)"
   ]
  },
  {
   "cell_type": "code",
   "execution_count": null,
   "metadata": {},
   "outputs": [],
   "source": [
    "animals =['cat','dog','rabbit']\n",
    "wild_animals= ['tiger','fox']  \n",
    "\n",
    "animals.append(wild_animals)\n",
    "print('updated animals list:',animals)"
   ]
  },
  {
   "cell_type": "code",
   "execution_count": null,
   "metadata": {},
   "outputs": [],
   "source": [
    "print(animals[3][0])"
   ]
  },
  {
   "cell_type": "code",
   "execution_count": null,
   "metadata": {},
   "outputs": [],
   "source": [
    "animals"
   ]
  },
  {
   "cell_type": "code",
   "execution_count": null,
   "metadata": {},
   "outputs": [],
   "source": [
    "animals[2]"
   ]
  },
  {
   "cell_type": "code",
   "execution_count": null,
   "metadata": {},
   "outputs": [],
   "source": [
    "animals.pop(2)"
   ]
  },
  {
   "cell_type": "code",
   "execution_count": null,
   "metadata": {},
   "outputs": [],
   "source": [
    "animals"
   ]
  },
  {
   "cell_type": "code",
   "execution_count": null,
   "metadata": {},
   "outputs": [],
   "source": [
    "input_number =int(input(\"Enter the number:\"))\n",
    "\n"
   ]
  },
  {
   "cell_type": "code",
   "execution_count": null,
   "metadata": {},
   "outputs": [],
   "source": [
    "type(input_number)"
   ]
  },
  {
   "cell_type": "code",
   "execution_count": null,
   "metadata": {},
   "outputs": [],
   "source": [
    "a=str(input_number)\n",
    "int_list=[]\n",
    "for i in range(len(a)):\n",
    "    int_list.append(int(a[i]))\n",
    "print(int_list)\n",
    "                                       "
   ]
  },
  {
   "cell_type": "code",
   "execution_count": null,
   "metadata": {},
   "outputs": [],
   "source": []
  },
  {
   "cell_type": "code",
   "execution_count": null,
   "metadata": {},
   "outputs": [],
   "source": [
    "input_number = int(input('Enter the number:'))\n"
   ]
  },
  {
   "cell_type": "code",
   "execution_count": null,
   "metadata": {},
   "outputs": [],
   "source": [
    "#FACTORIAL MULTIPLICATION\n",
    "\n",
    "fact = 1\n",
    "for i in range (input_number,0,-1):\n",
    "    fact= fact*i\n",
    "print(fact)"
   ]
  },
  {
   "cell_type": "code",
   "execution_count": null,
   "metadata": {},
   "outputs": [],
   "source": [
    "#factorial muliplication\n",
    "\n",
    "result = 1\n",
    "i = 1\n",
    "\n",
    "while i <= 50:\n",
    "    result *= i\n",
    "    i += 1\n",
    "\n",
    "print(result)"
   ]
  },
  {
   "cell_type": "code",
   "execution_count": null,
   "metadata": {},
   "outputs": [],
   "source": [
    "#programme of summition till a define range\n",
    "\n",
    "a_sum = 0\n",
    "\n",
    "for i in range(1,51):\n",
    "    a_sum = a_sum + i\n",
    "print(a_sum)\n",
    "    "
   ]
  },
  {
   "cell_type": "code",
   "execution_count": null,
   "metadata": {},
   "outputs": [],
   "source": [
    "input_number= int(input('Enter a number:'))"
   ]
  },
  {
   "cell_type": "code",
   "execution_count": null,
   "metadata": {},
   "outputs": [],
   "source": [
    "a_sum = 0\n",
    "\n",
    "for i in\n",
    "\n",
    "\n"
   ]
  },
  {
   "cell_type": "code",
   "execution_count": null,
   "metadata": {},
   "outputs": [],
   "source": [
    "#making a general table\n",
    "\n",
    "num = int(input())\n",
    "\n",
    "\n",
    "for i in range(1,11,1):\n",
    "    print(num,'x',i,'=',num*i)\n",
    "\n"
   ]
  },
  {
   "cell_type": "code",
   "execution_count": null,
   "metadata": {},
   "outputs": [],
   "source": [
    "#to write a FIBONACCI SERIES \n",
    "\n",
    "num= int(input('Enter a number'))\n",
    "a= 0\n",
    "b= 1\n",
    "for i in range(num):\n",
    "    c= a+b\n",
    "    print(a)\n",
    "    \n",
    "    a=b\n",
    "    b=c\n",
    "    \n",
    "    \n",
    "    \n"
   ]
  },
  {
   "cell_type": "code",
   "execution_count": null,
   "metadata": {},
   "outputs": [],
   "source": [
    "num= int(input('Enter a number'))\n",
    "mul = 0\n",
    "for i in range (2,num):\n",
    "        if num%i==0:\n",
    "            mul= mul+1\n",
    "if mul==0:\n",
    "    print('prime number')\n",
    "else:\n",
    "    print('not a prime number')"
   ]
  },
  {
   "cell_type": "code",
   "execution_count": null,
   "metadata": {},
   "outputs": [],
   "source": [
    "def my_function(*kids):\n",
    "    \"the youngest child is\"+kids[2]\n"
   ]
  },
  {
   "cell_type": "code",
   "execution_count": null,
   "metadata": {},
   "outputs": [],
   "source": [
    "#lambda function\n",
    "x= lambda a:a"
   ]
  },
  {
   "cell_type": "code",
   "execution_count": null,
   "metadata": {},
   "outputs": [],
   "source": [
    "#upper\n",
    "a= 'my world'\n",
    "print(a.upper())"
   ]
  },
  {
   "cell_type": "code",
   "execution_count": null,
   "metadata": {},
   "outputs": [],
   "source": [
    "#lower\n",
    "a= 'MY WORLD'\n",
    "print(a.lower())"
   ]
  },
  {
   "cell_type": "code",
   "execution_count": null,
   "metadata": {},
   "outputs": [],
   "source": [
    "#removing white space\n",
    "a  =  'h  i'   \n",
    "print(a.stripe())"
   ]
  },
  {
   "cell_type": "code",
   "execution_count": null,
   "metadata": {},
   "outputs": [],
   "source": [
    "#error\n",
    "age= 36\n",
    "str.\"age\"\n",
    "txt= \"My name is zan and I am\"+ age\n",
    "print(txt)"
   ]
  },
  {
   "cell_type": "code",
   "execution_count": null,
   "metadata": {},
   "outputs": [],
   "source": [
    "#format method {}\n",
    "\n",
    "age = 36\n",
    "txt= \"My name is Zan and I am {}\"\n",
    "print(txt.format(age))"
   ]
  },
  {
   "cell_type": "code",
   "execution_count": null,
   "metadata": {},
   "outputs": [],
   "source": [
    "x=0\n",
    "while x<11:\n",
    "    \n",
    "    print(x)\n",
    "    x=x+1"
   ]
  },
  {
   "cell_type": "code",
   "execution_count": null,
   "metadata": {},
   "outputs": [],
   "source": [
    "number=int(input('input a number'))\n",
    "x=0\n",
    "while x=x+2:\n",
    "    print('even')\n",
    "while x=x+1:\n",
    "    print('odd')\n",
    "        \n",
    "\n"
   ]
  },
  {
   "cell_type": "code",
   "execution_count": null,
   "metadata": {},
   "outputs": [],
   "source": [
    "even = True\n",
    "while True:\n",
    "    num=int(input('enter a number'))\n",
    "    if num%2==0:\n",
    "        print(num,'is even')\n",
    "        break\n",
    "\n",
    "    else:\n",
    "        print(num,'is odd')\n",
    "        break\n",
    "\n",
    "        \n",
    "            "
   ]
  },
  {
   "cell_type": "code",
   "execution_count": null,
   "metadata": {},
   "outputs": [],
   "source": [
    "num= int(input('Enter a number '))\n",
    "x= 0\n",
    "while x<=num:\n",
    "    print(x,end=' ')\n",
    "    x=x+1"
   ]
  },
  {
   "cell_type": "code",
   "execution_count": null,
   "metadata": {},
   "outputs": [],
   "source": [
    "num=int(input('Enter a number '))\n",
    "\n",
    "if num >1: \n",
    "    for i in range(2,num):\n",
    "        if (num % i) == 0:\n",
    "            print(num,\"is a prime number\")\n",
    "        \n",
    "           \n",
    "        else:\n",
    "            print(num,\"is a composite number\")\n",
    "            break\n",
    "        \n",
    "        \n",
    "            \n"
   ]
  },
  {
   "cell_type": "code",
   "execution_count": null,
   "metadata": {},
   "outputs": [],
   "source": [
    "num=int(input('Enter a number '))\n",
    "if num > 1:\n",
    "    for i in range(2,num):\n",
    "        if num%i==0:\n",
    "            print('composite  number',num)\n",
    "            break\n",
    "    else:\n",
    "        print('prime number',num)"
   ]
  },
  {
   "cell_type": "code",
   "execution_count": null,
   "metadata": {
    "scrolled": true
   },
   "outputs": [],
   "source": [
    "for i in range(11,22):\n",
    "    print(i)\n"
   ]
  },
  {
   "cell_type": "code",
   "execution_count": null,
   "metadata": {},
   "outputs": [],
   "source": [
    "for i in range(50,82):\n",
    "    if i%2==0:\n",
    "        print(i,'is divisible by 2')\n",
    "    elif i%3==0:\n",
    "        print(i,'is divisible by 3')\n",
    "    else:\n",
    "        print(i,'outside the loop')"
   ]
  },
  {
   "cell_type": "code",
   "execution_count": null,
   "metadata": {},
   "outputs": [],
   "source": [
    "lst=list(range(0,300,10))\n",
    "print(lst)\n",
    "\n"
   ]
  },
  {
   "cell_type": "code",
   "execution_count": null,
   "metadata": {},
   "outputs": [],
   "source": [
    "#slicing exmple\n",
    "print(lst[4:15])\n"
   ]
  },
  {
   "cell_type": "code",
   "execution_count": null,
   "metadata": {},
   "outputs": [],
   "source": [
    "#slicing exmple\n",
    "print(lst[4:15:2])\n",
    "\n"
   ]
  },
  {
   "cell_type": "code",
   "execution_count": null,
   "metadata": {
    "scrolled": true
   },
   "outputs": [],
   "source": [
    "print(lst[0::3])"
   ]
  },
  {
   "cell_type": "code",
   "execution_count": null,
   "metadata": {},
   "outputs": [],
   "source": [
    "print(lst[29:28:-1])"
   ]
  },
  {
   "cell_type": "code",
   "execution_count": null,
   "metadata": {},
   "outputs": [],
   "source": [
    "print(lst[29::1])"
   ]
  },
  {
   "cell_type": "code",
   "execution_count": null,
   "metadata": {},
   "outputs": [],
   "source": [
    "lst=list(range(0,101))\n",
    "print(lst)"
   ]
  },
  {
   "cell_type": "code",
   "execution_count": null,
   "metadata": {},
   "outputs": [],
   "source": [
    "print(lst[100::-2])"
   ]
  },
  {
   "cell_type": "code",
   "execution_count": null,
   "metadata": {},
   "outputs": [],
   "source": [
    "print(lst[1:101:2])"
   ]
  },
  {
   "cell_type": "code",
   "execution_count": null,
   "metadata": {},
   "outputs": [],
   "source": [
    "print(lst[5:101:5])"
   ]
  },
  {
   "cell_type": "code",
   "execution_count": null,
   "metadata": {},
   "outputs": [],
   "source": [
    "1. Let us say your expense for every month are listed below,\n",
    "\t1. January -  2200\n",
    " \t2. February - 2350\n",
    "    3. March - 2600\n",
    "    4. April - 2130\n",
    "    5. May - 2190\n",
    "    \n",
    "Create a list to store these monthly expenses and using that find out,\n",
    "    1. In Feb, how many dollars you spent extra compare to January?\n",
    "    2. Find out your total expense in first quarter (first three months) of the year.\n",
    "    3. Find out if you spent exactly 2000 dollars in any month\n",
    "    4. June month just finished and your expense is 1980 dollar. Add this item to our monthly expense list\n",
    "    5. You returned an item that you bought in a month of April and\n",
    "    got a refund of 200$. Make a correction to your monthly expense list"
   ]
  },
  {
   "cell_type": "code",
   "execution_count": null,
   "metadata": {},
   "outputs": [],
   "source": [
    "exp=[2200,2350,2600,2130,2190]\n"
   ]
  },
  {
   "cell_type": "code",
   "execution_count": null,
   "metadata": {},
   "outputs": [],
   "source": [
    "exp[1]-exp[0]"
   ]
  },
  {
   "cell_type": "code",
   "execution_count": null,
   "metadata": {},
   "outputs": [],
   "source": [
    "exp[0]+exp[1]+exp[2]"
   ]
  },
  {
   "cell_type": "code",
   "execution_count": null,
   "metadata": {},
   "outputs": [],
   "source": [
    "for i in exp:\n",
    "    if i==2000:\n",
    "        print('yes')\n",
    "    else:\n",
    "        print('no')"
   ]
  },
  {
   "cell_type": "code",
   "execution_count": null,
   "metadata": {},
   "outputs": [],
   "source": [
    "2000 in exp\n",
    "print('no')"
   ]
  },
  {
   "cell_type": "code",
   "execution_count": null,
   "metadata": {},
   "outputs": [],
   "source": [
    "exp.append(1980)\n",
    "print(exp)"
   ]
  },
  {
   "cell_type": "code",
   "execution_count": null,
   "metadata": {},
   "outputs": [],
   "source": [
    "exp[3]=exp[3]+200\n"
   ]
  },
  {
   "cell_type": "code",
   "execution_count": null,
   "metadata": {},
   "outputs": [],
   "source": [
    "print(exp)"
   ]
  },
  {
   "cell_type": "code",
   "execution_count": null,
   "metadata": {},
   "outputs": [],
   "source": [
    "2. You have a list of your favourite marvel super heros.\n",
    "```\n",
    "heros=['spider man','thor','hulk','iron man','captain america']\n",
    "```\n",
    "Using this find out,+\n",
    "    1. Length of the list\n",
    "    2. Add 'black panther' at the end of this list\n",
    "    3. You realize that you need to add 'black panther' after 'hulk',\n",
    "       so remove it from the list first and then add it after 'hulk'\n",
    "    4. Now you don't like thor and hulk because they get angry easily :)\n",
    "       So you want to remove thor and hulk from list and replace them with doctor strange (because he is cool).\n",
    "       Do that with one line of code.\n",
    "    5. Sort the heros list in alphabetical order (Hint. Use dir() functions to list down all functions available in list)"
   ]
  },
  {
   "cell_type": "code",
   "execution_count": null,
   "metadata": {},
   "outputs": [],
   "source": [
    "heroes=['spider man','thor','hulk','iron man','captain america']\n",
    "print(len(heroes))"
   ]
  },
  {
   "cell_type": "code",
   "execution_count": null,
   "metadata": {},
   "outputs": [],
   "source": [
    "heroes.append('black panther')\n",
    "print(heroes)"
   ]
  },
  {
   "cell_type": "code",
   "execution_count": null,
   "metadata": {},
   "outputs": [],
   "source": [
    "heroes.remove('black panther')\n",
    "print(heroes)"
   ]
  },
  {
   "cell_type": "code",
   "execution_count": null,
   "metadata": {},
   "outputs": [],
   "source": [
    "heroes.insert(3,'black panther')\n"
   ]
  },
  {
   "cell_type": "code",
   "execution_count": null,
   "metadata": {},
   "outputs": [],
   "source": [
    "heroes.pop(4)"
   ]
  },
  {
   "cell_type": "code",
   "execution_count": null,
   "metadata": {},
   "outputs": [],
   "source": [
    "print(heroes)"
   ]
  },
  {
   "cell_type": "code",
   "execution_count": null,
   "metadata": {},
   "outputs": [],
   "source": []
  },
  {
   "cell_type": "code",
   "execution_count": null,
   "metadata": {},
   "outputs": [],
   "source": []
  },
  {
   "cell_type": "code",
   "execution_count": null,
   "metadata": {},
   "outputs": [],
   "source": [
    "heroes=['spider man','thor','iron man','captain america']\n",
    "heroes.insert(4,'hulk')\n",
    "heroes.insert(5,'black panther')\n",
    "print(heroes)"
   ]
  },
  {
   "cell_type": "code",
   "execution_count": null,
   "metadata": {},
   "outputs": [],
   "source": [
    "heroes=['spider man', 'thor', 'iron man', 'captain america', 'hulk', 'black panther']\n",
    "if heroes.remove[1:4]:\n",
    "    elif heroes.append('doctor strange'):\n",
    "        else:\n",
    "        print(heroes)"
   ]
  },
  {
   "cell_type": "code",
   "execution_count": null,
   "metadata": {},
   "outputs": [],
   "source": [
    "heroes.dir()\n",
    "print(heroes)\n"
   ]
  },
  {
   "cell_type": "code",
   "execution_count": null,
   "metadata": {},
   "outputs": [],
   "source": [
    "#to write down a list in alphabatical way\n",
    "\n",
    "heroes.sort()\n",
    "print(heroes)"
   ]
  },
  {
   "cell_type": "code",
   "execution_count": null,
   "metadata": {},
   "outputs": [],
   "source": [
    "p1_name, p1_price = 'Books', 49.95\n",
    "p2_name, p2_price = 'Computer', 579.99\n",
    "p3_name, p3_price = 'Monitor', 124.89\n",
    "# create a company name and information\n",
    "company_name = 'coding temple, inc.'\n",
    "company_address = '283 Franklin St.'\n",
    "company_city = 'Boston, MA'\n",
    "# declare ending message\n",
    "message = 'Thanks for shopping with us today!'\n",
    "# create a top border\n",
    "print('*' * 50)\n",
    "# print company information first using format\n",
    "print('\\t\\t{}'.format(company_name.title())\n",
    "print('\\t\\t{}'.format(company_address.title()))\n",
    "print('\\t\\t{}'.format(company_city.title()))\n",
    "# print a line between sections\n",
    "print('=' * 50)\n",
    "# print out header for section of items\n",
    "print('\\tProduct Name\\tProduct Price')\n",
    "# create a print statement for each item\n",
    "print('\\t{}\\t\\t${}'.format(p1_name.title(), p1_price))\n",
    "print('\\t{}\\t${}'.format(p2_name.title(), p2_price))\n",
    "print('\\t{}\\t\\t${}'.format(p3_name.title(), p3_price))\n",
    "# print a line between sections\n",
    "print('=' * 50)\n",
    "# print out header for section of total\n",
    "print('\\t\\t\\tTotal')\n",
    "# calculate total price and print out\n",
    "total = p1_price + p2_price + p3_price\n",
    "print('\\t\\t\\t${}'.format(total))\n",
    "# print a line between sections\n",
    "print('=' * 50)\n",
    "# output thank you message\n",
    "print('\\n\\t{}\\n'.format(message))\n",
    "# create a bottom border\n",
    "print('*' * 50)\n",
    "\n"
   ]
  },
  {
   "cell_type": "code",
   "execution_count": null,
   "metadata": {},
   "outputs": [],
   "source": [
    "print('1: Pick the lock')\n",
    "print('2: Go to sleep')\n",
    "ans = input('You awake in a jail cell, what would you like to do? ')\n",
    "if ans == '1':\n",
    "    print('1: Run')\n",
    "    print('2: Fight')\n",
    "    ans = input('The door opens, a guard notices you though, what do you do? ')\n",
    "    if ans == '1':\n",
    "        print('You got away, congrats you are free!')\n",
    "    elif ans == '2':\n",
    "        print('The guard caught you... you lost!')\n",
    "elif ans == '2':\n",
    "    print('1: Pick the lock')\n",
    "    print('2: Go to sleep')\n",
    "    ans = input('You awake in a jail cell, what would you like to do? ')"
   ]
  },
  {
   "cell_type": "code",
   "execution_count": null,
   "metadata": {},
   "outputs": [],
   "source": [
    "num=int(input('Enter a number '))\n",
    "for num in range()\n",
    "if num<=200 or num>=500:\n",
    "    elif num%==0:\n",
    "        else:\n",
    "            print('composite number')\n",
    "    \n"
   ]
  },
  {
   "cell_type": "code",
   "execution_count": null,
   "metadata": {},
   "outputs": [],
   "source": [
    "lower=int(input('enter a number'))\n",
    "upper=int(input('entera number'))\n",
    "lst=[]\n",
    "for num in range(lower,upper)\n",
    "if x>1:\n",
    "    for i in range(2,x):\n",
    "        if x%i!=0:\n",
    "            print('composite number')\n",
    "            else:\n",
    "                print"
   ]
  },
  {
   "cell_type": "code",
   "execution_count": null,
   "metadata": {},
   "outputs": [],
   "source": [
    "# Sum of composite numbers inside a given range\n",
    "lower = int(input(\"Enter lower range: \"))\n",
    "upper = int(input(\"Enter upper range: \"))\n",
    "lst=[]\n",
    "for num in range(lower,upper + 1):\n",
    "    if num > 1:\n",
    "        for i in range(2, num):\n",
    "            if (num % i) == 0:\n",
    "                print(num,\"composite number\")\n",
    "                break\n",
    "        else:\n",
    "            print(num)\n",
    "            lst.append(num)\n",
    "        \n",
    "sum = 0\n",
    "for i in lst:\n",
    "    sum =sum+i\n",
    "print(\"sum of all composite num =\", sum) "
   ]
  },
  {
   "cell_type": "code",
   "execution_count": null,
   "metadata": {},
   "outputs": [],
   "source": [
    "lower = int(input(\"Enter lower range: \"))\n",
    "upper = int(input(\"Enter upper range: \"))\n",
    "\n",
    "for num in range(lower,upper + 1):\n",
    "    if num%2==0: \n",
    "        print(num,'divisible by 2')\n",
    "    elif num%2==0 and num%3==0:\n",
    "        print(num,'divisible by 2 and 3')\n",
    "        \n",
    "            \n",
    "    elif num%3==0 and num%5==0:\n",
    "        print(num,'divisible by 3 and 5')\n",
    "        \n",
    "        \n",
    "    elif num%3==0 and num%9==0:\n",
    "        \n",
    "        print(num,'divisible by 3 and 9')\n",
    "    elif num%5==0:  \n",
    "        print(num,'divisible by 5')\n",
    "    elif num%9==0:\n",
    "        print(num,'divisible by 9')\n",
    "    else:\n",
    "        print(num,'prime number')\n"
   ]
  },
  {
   "cell_type": "code",
   "execution_count": null,
   "metadata": {},
   "outputs": [],
   "source": [
    "even=True\n",
    "while True:\n",
    "    num=int(input('enter a number '))\n",
    "    if num%2==0:\n",
    "        break\n",
    "print(num,'even number ')\n",
    "        "
   ]
  },
  {
   "cell_type": "code",
   "execution_count": null,
   "metadata": {},
   "outputs": [],
   "source": [
    "prime = True"
   ]
  },
  {
   "cell_type": "code",
   "execution_count": null,
   "metadata": {},
   "outputs": [],
   "source": [
    "number = int(input(\"Enter any number: \"))\n",
    "if number > 1:\n",
    "    for i in range(2, number):\n",
    "        if number % i == 0:\n",
    "            print(number, \"is not a prime number\")\n",
    "            break\n",
    "    else:\n",
    "        print(number, \"is a prime number\")\n",
    "\n",
    "    \n",
    " \n",
    "\n",
    "\n"
   ]
  },
  {
   "cell_type": "code",
   "execution_count": null,
   "metadata": {},
   "outputs": [],
   "source": [
    "num = int(input(\"Enter any number: \"))\n",
    "i=2\n",
    "while num<i:\n",
    "    if num%2==0:\n",
    "        print(i,'composite number')\n",
    "        else:\n",
    "        print(i,'prime number')"
   ]
  },
  {
   "cell_type": "code",
   "execution_count": null,
   "metadata": {},
   "outputs": [],
   "source": [
    "composite=True\n",
    "while composite:\n",
    "    num=int(input('enter the number'))\n",
    "    if num==1:\n",
    "        continue\n",
    "    for i in range(2,num//2):\n",
    "        if num%i==0:\n",
    "            print('composite number')\n",
    "            break\n",
    "    else:\n",
    "        composite=False\n",
    "        \n",
    "print('prime number')"
   ]
  },
  {
   "cell_type": "code",
   "execution_count": null,
   "metadata": {},
   "outputs": [],
   "source": [
    "composite = True\n",
    "while composite:\n",
    "    num = int(input('Enter the number '))\n",
    "    if num == 1:\n",
    "        continue\n",
    "    for i in range(2,num//2):\n",
    "        if num%i==0:\n",
    "            print('Composite Number')\n",
    "            break\n",
    "    else:\n",
    "        composite = False\n",
    "print('Prime Number')"
   ]
  },
  {
   "cell_type": "code",
   "execution_count": null,
   "metadata": {},
   "outputs": [],
   "source": []
  },
  {
   "cell_type": "code",
   "execution_count": null,
   "metadata": {},
   "outputs": [],
   "source": [
    "num = int(input(\"Enter any number: \"))\n",
    "count=0\n",
    "i=2\n",
    "while i<=num/2:\n",
    "    if num%i==0:\n",
    "        count=1\n",
    "        break\n",
    "    i=i+1\n",
    "if count==0:\n",
    "    print(num,'prime number')\n",
    "else:\n",
    "    print(num,'composite number')"
   ]
  },
  {
   "cell_type": "code",
   "execution_count": null,
   "metadata": {},
   "outputs": [],
   "source": [
    "num = int(input(\"Enter any number: \"))\n",
    "i=1\n",
    "while"
   ]
  },
  {
   "cell_type": "code",
   "execution_count": null,
   "metadata": {},
   "outputs": [],
   "source": [
    "num=int(input('Enter a number '))\n",
    "count=0\n",
    "i=2\n",
    "while i<=num%2:\n",
    "    if num%i==0:\n",
    "        i=i+1\n",
    "    if count==0\n",
    "        print(num,'prime number ')\n",
    "    else:\n",
    "        print(num,'composite number ')"
   ]
  },
  {
   "cell_type": "code",
   "execution_count": null,
   "metadata": {},
   "outputs": [],
   "source": [
    "#odd or even \n",
    "num=int(input('Enter a number '))\n",
    "i=1\n",
    "while i<=num%2:\n",
    "    if num%2==0:\n",
    "        print(num,'even number ')\n",
    "        break\n",
    "    else:\n",
    "        print(num,'odd number')\n",
    "        break"
   ]
  },
  {
   "cell_type": "code",
   "execution_count": null,
   "metadata": {},
   "outputs": [],
   "source": [
    "even = True\n",
    "while True:\n",
    "    num=int(input('enter a number'))\n",
    "    if num%2==0:\n",
    "        print(num,'is even')\n",
    "        break\n",
    "\n",
    "    else:\n",
    "        print(num,'is odd')\n",
    "        break\n",
    "\n",
    "        \n",
    "            \n",
    "\n"
   ]
  },
  {
   "cell_type": "code",
   "execution_count": null,
   "metadata": {},
   "outputs": [],
   "source": [
    "\n",
    "num = int(input(\"Enter a number: \"))  \n",
    "f = 0\n",
    "i = 2\n",
    "while i <= num / 2:\n",
    "    if num % i == 0:\n",
    "        f=1\n",
    "        break\n",
    "    i=i+1\n",
    "    \n",
    "if f==0:\n",
    "    print(\"The entered number is a PRIME number\")\n",
    "else:\n",
    "    print(\"The entered number is not a PRIME number\")\n"
   ]
  },
  {
   "cell_type": "code",
   "execution_count": null,
   "metadata": {},
   "outputs": [],
   "source": [
    "number = number = input('Please enter a number: ')\n",
    "\n",
    "i = 2\n",
    "\n",
    "while i < number:\n",
    "    if number%i == 0:\n",
    "        print (\"Your number is NOT a prime number!\")\n",
    "        i = i + 1\n",
    "        print (\"Your number is a prime number!\")\n"
   ]
  },
  {
   "cell_type": "code",
   "execution_count": null,
   "metadata": {},
   "outputs": [],
   "source": [
    "number = number = input('Please enter a number:')\n",
    "\n",
    "i = 2\n",
    "toggle = 0\n",
    "\n",
    "while i<number:\n",
    "if number%i == 0:\n",
    "toggle = 1\n",
    "print (\"Your number is NOT a prime number!\");\n",
    "i = i + 1\n",
    "if toggle == 0:\n",
    "print (\"Your number is a prime number!\");"
   ]
  },
  {
   "cell_type": "code",
   "execution_count": null,
   "metadata": {},
   "outputs": [],
   "source": []
  },
  {
   "cell_type": "code",
   "execution_count": null,
   "metadata": {},
   "outputs": [],
   "source": [
    "num = int(input('Enter a number'))\n",
    "a=0 \n",
    "b=1\n",
    "for i in range(num):\n",
    "    c=a+b\n",
    "    print(a)\n",
    "    a=b\n",
    "    b=c"
   ]
  },
  {
   "cell_type": "code",
   "execution_count": null,
   "metadata": {},
   "outputs": [],
   "source": [
    "#to write a FIBONACCI SERIES \n",
    "\n",
    "num= int(input('Enter a number'))\n",
    "a= 0\n",
    "b= 1\n",
    "for i in range(num):\n",
    "    c= a+b\n",
    "    print(a)\n",
    "    \n",
    "    a=b\n",
    "    b=c\n",
    "    \n",
    "    \n",
    "    \n"
   ]
  },
  {
   "cell_type": "code",
   "execution_count": 6,
   "metadata": {},
   "outputs": [
    {
     "name": "stdout",
     "output_type": "stream",
     "text": [
      "Enter a number: 7548\n",
      "7548 Not Armstrong Number\n"
     ]
    }
   ],
   "source": [
    "#Armstrong number\n",
    "num = int(input('Enter a number: '))\n",
    "sum = 0\n",
    "temp = num\n",
    "while temp > 0:\n",
    "    digit = temp%10\n",
    "    sum += digit**3\n",
    "    temp//=10\n",
    "if num == sum:\n",
    "    print(num,'Armstrong Number')\n",
    "else:\n",
    "    print(num,'Not Armstrong Number')\n",
    "        "
   ]
  },
  {
   "cell_type": "code",
   "execution_count": null,
   "metadata": {},
   "outputs": [],
   "source": [
    "# Python program to check if the number is an Armstrong number or not\n",
    "\n",
    "# take input from the user\n",
    "num = int(input(\"Enter a number: \"))\n",
    "\n",
    "# initialize sum\n",
    "sum = 0\n",
    "\n",
    "# find the sum of the cube of each digit\n",
    "temp = num\n",
    "while temp > 0:\n",
    "    digit = temp % 10\n",
    "    sum += digit**3\n",
    "    temp //= 10\n",
    "\n",
    "# display the result\n",
    "if num == sum:\n",
    "    \n",
    "    print(num,\"is an Armstrong number\")\n",
    "else:\n",
    "    print(num,\"is not an Armstrong number\")"
   ]
  },
  {
   "cell_type": "code",
   "execution_count": null,
   "metadata": {},
   "outputs": [],
   "source": []
  },
  {
   "cell_type": "code",
   "execution_count": null,
   "metadata": {},
   "outputs": [],
   "source": []
  },
  {
   "cell_type": "code",
   "execution_count": null,
   "metadata": {},
   "outputs": [],
   "source": []
  },
  {
   "cell_type": "code",
   "execution_count": null,
   "metadata": {},
   "outputs": [],
   "source": []
  },
  {
   "cell_type": "code",
   "execution_count": null,
   "metadata": {},
   "outputs": [],
   "source": []
  }
 ],
 "metadata": {
  "kernelspec": {
   "display_name": "Python 3",
   "language": "python",
   "name": "python3"
  },
  "language_info": {
   "codemirror_mode": {
    "name": "ipython",
    "version": 3
   },
   "file_extension": ".py",
   "mimetype": "text/x-python",
   "name": "python",
   "nbconvert_exporter": "python",
   "pygments_lexer": "ipython3",
   "version": "3.8.3"
  }
 },
 "nbformat": 4,
 "nbformat_minor": 4
}

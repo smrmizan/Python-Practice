{
 "cells": [
  {
   "cell_type": "code",
   "execution_count": null,
   "metadata": {},
   "outputs": [],
   "source": [
    "#example of [list]\n",
    "\n",
    "fruits= ['apple','banana','mango','cherry']\n",
    "\n",
    "print(fruits[1])"
   ]
  },
  {
   "cell_type": "code",
   "execution_count": null,
   "metadata": {},
   "outputs": [],
   "source": [
    "#in exchange of 'apple' to 'kiwi'\n",
    "\n",
    "fruits= [\"apple\",\"banana\",\"mango\",\"cherry\"]\n",
    "\n",
    "(fruits[0]=\"kiwi\""
   ]
  },
  {
   "cell_type": "code",
   "execution_count": null,
   "metadata": {},
   "outputs": [],
   "source": [
    "#to APPEND/ADD something 'apple' in the list\n",
    "\n",
    "fruits= ['apple','banana','mango','cherry']\n",
    "\n",
    "fruits.append('orange')"
   ]
  },
  {
   "cell_type": "code",
   "execution_count": null,
   "metadata": {},
   "outputs": [],
   "source": [
    "#to insert new data in particular position\n",
    "#here counting starts from 0\n",
    "#apple=0,banana=1,mango=2,cherry=3 in position\n",
    "\n",
    "fruits= ['apple','banana','mango','cherry']\n",
    "\n",
    "fruits.insert(3,'dragon')"
   ]
  },
  {
   "cell_type": "code",
   "execution_count": null,
   "metadata": {},
   "outputs": [],
   "source": [
    "#to REMOVE something from the list\n",
    "\n",
    "fruits= ['apple','banana','mango','cherry']\n",
    "fruits.remove('banana')"
   ]
  },
  {
   "cell_type": "code",
   "execution_count": null,
   "metadata": {},
   "outputs": [],
   "source": [
    "#NEGATIVE indexing\n",
    "\n",
    "fruits= ['apple','banana','mango','cherry']\n",
    "\n",
    "print(fruits[-1])"
   ]
  },
  {
   "cell_type": "code",
   "execution_count": null,
   "metadata": {},
   "outputs": [],
   "source": [
    "#use of RANGE to print item from the list\n",
    "\n",
    "fruits= ['apple','banana','mango','cherry','dragon','melon','kiwi']\n",
    "\n",
    "print(fruits[3:5])"
   ]
  },
  {
   "cell_type": "code",
   "execution_count": null,
   "metadata": {},
   "outputs": [],
   "source": [
    "#SYNTEX to print THE NUMBER OF ITEMS from the list\n",
    "\n",
    "fruits= ['apple','banana','mango','cherry']\n",
    "\n",
    "print(len(fruits))"
   ]
  },
  {
   "cell_type": "code",
   "execution_count": null,
   "metadata": {},
   "outputs": [],
   "source": [
    "#to PRINT an ITEM from a TUPLE\n",
    "\n",
    "fruits= ['apple','banana','mango','cherry']\n",
    "\n",
    "print(fruits[2])"
   ]
  },
  {
   "cell_type": "code",
   "execution_count": null,
   "metadata": {},
   "outputs": [],
   "source": [
    "#using ADD method to add an item in a SET\n",
    "\n",
    "fruits= {'apple','banana','mango','cherry'}\n",
    "\n",
    "print(fruits.add('orange'))"
   ]
  },
  {
   "cell_type": "code",
   "execution_count": null,
   "metadata": {},
   "outputs": [],
   "source": [
    "fruits=('apple','banana','mango')\n",
    "print('\\t\\t\\t')"
   ]
  },
  {
   "cell_type": "code",
   "execution_count": null,
   "metadata": {},
   "outputs": [],
   "source": [
    "#reversing number\n",
    "num = int(input())\n",
    "inv = 0\n",
    "while num > 0:\n",
    "    mod = num % 10\n",
    "    inv = inv*10+mod\n",
    "    num = num//10\n",
    "print(inv)"
   ]
  },
  {
   "cell_type": "code",
   "execution_count": null,
   "metadata": {},
   "outputs": [],
   "source": [
    "#reversing number\n",
    "a = input()\n",
    "len(a)\n",
    "int(a[::-1])"
   ]
  },
  {
   "cell_type": "code",
   "execution_count": null,
   "metadata": {},
   "outputs": [],
   "source": [
    "#use of 'continue'\n",
    "fruits = [\"apple\", \"banana\", \"cherry\"]\n",
    "for x in fruits: \n",
    "    if x == \"banana\":\n",
    "        continue\n",
    "    print(x)\n",
    "    \n"
   ]
  },
  {
   "cell_type": "code",
   "execution_count": 13,
   "metadata": {},
   "outputs": [
    {
     "name": "stdout",
     "output_type": "stream",
     "text": [
      "0\n",
      "1\n",
      "2\n",
      "3\n",
      "4\n",
      "5\n"
     ]
    }
   ],
   "source": [
    "#using 'range'\n",
    "for x in range(6):\n",
    "    print(x)"
   ]
  },
  {
   "cell_type": "code",
   "execution_count": 12,
   "metadata": {},
   "outputs": [
    {
     "name": "stdout",
     "output_type": "stream",
     "text": [
      "apple\n"
     ]
    }
   ],
   "source": [
    "fruits = [\"apple\", \"banana\", \"cherry\"]\n",
    "for x in fruits:\n",
    "    if x == \"banana\":\n",
    "        break\n",
    "    print(x)"
   ]
  },
  {
   "cell_type": "code",
   "execution_count": 11,
   "metadata": {},
   "outputs": [
    {
     "name": "stdout",
     "output_type": "stream",
     "text": [
      "1\n",
      "2\n",
      "3\n",
      "4\n",
      "5\n"
     ]
    }
   ],
   "source": [
    "#using 'while' loop\n",
    "i = 1\n",
    "while i < 6:\n",
    "    print(i)\n",
    "    i= i+ 1"
   ]
  },
  {
   "cell_type": "code",
   "execution_count": null,
   "metadata": {},
   "outputs": [],
   "source": [
    "#odd or even number\n",
    "input_num = int(input('Enter a number'))\n",
    "\n",
    "if input_num%2==0:\n",
    "    print(input_num,'is even')\n",
    "else:\n",
    "    print(input_num,'is odd')\n",
    "    "
   ]
  },
  {
   "cell_type": "code",
   "execution_count": null,
   "metadata": {},
   "outputs": [],
   "source": [
    "#composite number\n",
    "num = int(input(\"Enter any number: \"))\n",
    "count=0\n",
    "i=2\n",
    "while i<=num/2:\n",
    "    if num%i==0:\n",
    "        count=1\n",
    "        break\n",
    "    i=i+1\n",
    "if count==0:\n",
    "    print(num,'prime number')\n",
    "else:\n",
    "    print(num,'composite number')"
   ]
  },
  {
   "cell_type": "code",
   "execution_count": 18,
   "metadata": {},
   "outputs": [
    {
     "name": "stdout",
     "output_type": "stream",
     "text": [
      "Enter the number 97\n",
      "Prime Number\n"
     ]
    }
   ],
   "source": [
    "#prime number\n",
    "composite = True\n",
    "while composite:\n",
    "    num = int(input('Enter the number '))\n",
    "    if num == 1:\n",
    "        continue\n",
    "    for i in range(2,num//2):\n",
    "        if num%i==0:\n",
    "            print('Composite Number')\n",
    "            break\n",
    "    else:\n",
    "        composite = False\n",
    "print('Prime Number') \n"
   ]
  },
  {
   "cell_type": "code",
   "execution_count": 9,
   "metadata": {},
   "outputs": [
    {
     "name": "stdout",
     "output_type": "stream",
     "text": [
      "Enter a number 98765\n",
      "98765 odd number\n"
     ]
    }
   ],
   "source": [
    "#odd or even \n",
    "num=int(input('Enter a number '))\n",
    "i=0\n",
    "while i<=num:\n",
    "    if num%2==0:\n",
    "        print(num,'even number ')\n",
    "        break\n",
    "    else:\n",
    "        print(num,'odd number')\n",
    "        break\n",
    "        "
   ]
  },
  {
   "cell_type": "code",
   "execution_count": 16,
   "metadata": {},
   "outputs": [
    {
     "name": "stdout",
     "output_type": "stream",
     "text": [
      "Enter a number 876544\n",
      "4\n",
      "44\n",
      "445\n",
      "4456\n",
      "44567\n",
      "445678\n"
     ]
    }
   ],
   "source": [
    "#reverse a number\n",
    "num=int(input('Enter a number '))\n",
    "rev_num=0\n",
    "while num > 0:\n",
    "    rmndr = num % 10\n",
    "    rev_num=rev_num*10+rmndr\n",
    "    num=num//10\n",
    "    \n",
    "    print(rev_num)"
   ]
  },
  {
   "cell_type": "code",
   "execution_count": 8,
   "metadata": {},
   "outputs": [
    {
     "name": "stdout",
     "output_type": "stream",
     "text": [
      "9876\n",
      "6789\n"
     ]
    }
   ],
   "source": [
    "#reverse number\n",
    "num = int(input())\n",
    "inv = 0\n",
    "while num > 0:\n",
    "    mod = num % 10\n",
    "    inv = inv*10+mod\n",
    "    num = num//10\n",
    "print(inv)"
   ]
  },
  {
   "cell_type": "code",
   "execution_count": 19,
   "metadata": {},
   "outputs": [
    {
     "name": "stdout",
     "output_type": "stream",
     "text": [
      "Enter a number987\n",
      "789\n"
     ]
    }
   ],
   "source": [
    "n=int(input('Enter a number'))\n",
    "nr=0\n",
    "while n%10!=0:\n",
    "    c=n%10\n",
    "    nr=nr*10+c\n",
    "    n=n//10\n",
    "print(nr)"
   ]
  },
  {
   "cell_type": "code",
   "execution_count": 24,
   "metadata": {},
   "outputs": [
    {
     "name": "stdout",
     "output_type": "stream",
     "text": [
      "Enter a number: 123\n",
      "123 is not an Armstrong number\n"
     ]
    }
   ],
   "source": [
    "#armstrong number\n",
    "\n",
    "num = int(input(\"Enter a number: \"))\n",
    "sum = 0\n",
    "temp = num\n",
    "\n",
    "while temp > 0:\n",
    "    mod = temp % 10\n",
    "    sum += mod ** 3\n",
    "    temp //= 10\n",
    "\n",
    "if num == sum:\n",
    "    print(num,\"is an Armstrong number\")\n",
    "else:\n",
    "    print(num,\"is not an Armstrong number\")\n"
   ]
  },
  {
   "cell_type": "code",
   "execution_count": 25,
   "metadata": {},
   "outputs": [
    {
     "name": "stdout",
     "output_type": "stream",
     "text": [
      "Enter a number: 123\n",
      "123 is not an Armstrong number\n"
     ]
    }
   ],
   "source": [
    "#armstrong number\n",
    "\n",
    "num = int(input(\"Enter a number: \"))\n",
    "sum = 0\n",
    "temp = 0\n",
    "\n",
    "while temp%10 != 0:\n",
    "    mod = temp % 10\n",
    "    sum += mod ** 3\n",
    "    temp //= 10\n",
    "\n",
    "if num == sum:\n",
    "    print(num,\"is an Armstrong number\")\n",
    "else:\n",
    "    print(num,\"is not an Armstrong number\")\n"
   ]
  },
  {
   "cell_type": "code",
   "execution_count": 2,
   "metadata": {},
   "outputs": [
    {
     "name": "stdout",
     "output_type": "stream",
     "text": [
      "Enter a num 1\n",
      "153\n"
     ]
    }
   ],
   "source": [
    "#armstrong number\n",
    "\n",
    "cnt = int(input('Enter a num '))\n",
    "num = 0\n",
    "i = 10\n",
    "while num < cnt:\n",
    "    power = 0\n",
    "    a = i\n",
    "    while a > 0:\n",
    "        power += 1\n",
    "        a //= 10\n",
    "    a = i\n",
    "    arm = 0\n",
    "    while a > 0:\n",
    "        mod = a%10\n",
    "        arm += mod**power\n",
    "        a = a//10\n",
    "    if arm == i:\n",
    "        print(i)\n",
    "        num += 1\n",
    "    i += 1"
   ]
  },
  {
   "cell_type": "code",
   "execution_count": 3,
   "metadata": {},
   "outputs": [
    {
     "name": "stdout",
     "output_type": "stream",
     "text": [
      "Enter lower range: 100\n",
      "Enter upper range: 500\n",
      "153\n",
      "370\n",
      "371\n",
      "407\n"
     ]
    }
   ],
   "source": [
    "num1 = int(input('Enter lower range: '))\n",
    "num2 = int(input('Enter upper range: '))\n",
    "for num in range (num1,num2+1):\n",
    "    sum = 0\n",
    "    temp = num\n",
    "    while temp > 0:\n",
    "        mod=temp%10\n",
    "        sum=sum+mod**3\n",
    "        \n",
    "        temp=temp//10\n",
    "    if num==sum:\n",
    "        print(num)\n",
    "    \n",
    "    "
   ]
  },
  {
   "cell_type": "code",
   "execution_count": null,
   "metadata": {},
   "outputs": [],
   "source": [
    "def add_and_mul(num1,num2,num3):\n",
    "    a = num1+num2+num3\n",
    "    b = num1*num2*num3\n",
    "    return a,b\n",
    "    "
   ]
  },
  {
   "cell_type": "code",
   "execution_count": 34,
   "metadata": {},
   "outputs": [
    {
     "ename": "NameError",
     "evalue": "name 'b' is not defined",
     "output_type": "error",
     "traceback": [
      "\u001b[0;31m---------------------------------------------------------------------------\u001b[0m",
      "\u001b[0;31mNameError\u001b[0m                                 Traceback (most recent call last)",
      "\u001b[0;32m<ipython-input-34-ba93207a259a>\u001b[0m in \u001b[0;36m<module>\u001b[0;34m\u001b[0m\n\u001b[0;32m----> 1\u001b[0;31m \u001b[0madd_and_mul\u001b[0m \u001b[0;34m=\u001b[0m \u001b[0;34m(\u001b[0m\u001b[0ma\u001b[0m\u001b[0;34m,\u001b[0m\u001b[0mb\u001b[0m\u001b[0;34m)\u001b[0m\u001b[0;34m\u001b[0m\u001b[0;34m\u001b[0m\u001b[0m\n\u001b[0m",
      "\u001b[0;31mNameError\u001b[0m: name 'b' is not defined"
     ]
    }
   ],
   "source": [
    "add_and_mul = (a,b)"
   ]
  },
  {
   "cell_type": "code",
   "execution_count": 41,
   "metadata": {},
   "outputs": [
    {
     "name": "stdout",
     "output_type": "stream",
     "text": [
      "Enter a number7\n",
      "7 odd number\n"
     ]
    }
   ],
   "source": [
    "even = True\n",
    "num = int(input('Enter a number'))\n",
    "while num%2==0:\n",
    "    num= num+1\n",
    "    print(num,'even number')\n",
    "    \n",
    "else:\n",
    "    print(num,'odd number')\n",
    "        \n",
    "    "
   ]
  },
  {
   "cell_type": "code",
   "execution_count": 36,
   "metadata": {},
   "outputs": [],
   "source": [
    "def odd_check(num):\n",
    "    \n",
    "    return num%2!=0"
   ]
  },
  {
   "cell_type": "code",
   "execution_count": 37,
   "metadata": {},
   "outputs": [
    {
     "data": {
      "text/plain": [
       "False"
      ]
     },
     "execution_count": 37,
     "metadata": {},
     "output_type": "execute_result"
    }
   ],
   "source": [
    "even_check(17)"
   ]
  },
  {
   "cell_type": "code",
   "execution_count": 40,
   "metadata": {},
   "outputs": [],
   "source": [
    "def even_check(num):\n",
    "    return num%2==0\n"
   ]
  },
  {
   "cell_type": "code",
   "execution_count": 47,
   "metadata": {},
   "outputs": [],
   "source": [
    "def even_odd_check(num):\n",
    "    if num%2 ==0:\n",
    "        print('even')\n",
    "    else:\n",
    "        print('odd')"
   ]
  },
  {
   "cell_type": "code",
   "execution_count": null,
   "metadata": {},
   "outputs": [],
   "source": []
  }
 ],
 "metadata": {
  "kernelspec": {
   "display_name": "Python 3",
   "language": "python",
   "name": "python3"
  },
  "language_info": {
   "codemirror_mode": {
    "name": "ipython",
    "version": 3
   },
   "file_extension": ".py",
   "mimetype": "text/x-python",
   "name": "python",
   "nbconvert_exporter": "python",
   "pygments_lexer": "ipython3",
   "version": "3.8.3"
  }
 },
 "nbformat": 4,
 "nbformat_minor": 4
}
